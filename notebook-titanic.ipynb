{
 "cells": [
  {
   "cell_type": "markdown",
   "id": "9dffb827",
   "metadata": {
    "papermill": {
     "duration": 0.002298,
     "end_time": "2024-01-17T15:27:15.337557",
     "exception": false,
     "start_time": "2024-01-17T15:27:15.335259",
     "status": "completed"
    },
    "tags": []
   },
   "source": [
    "# ДЗ по \"Введение в искусственный интеллект (семинары)\"\n",
    "## Соревнование Титаник"
   ]
  },
  {
   "cell_type": "code",
   "execution_count": 1,
   "id": "72d5dd65",
   "metadata": {
    "_cell_guid": "b1076dfc-b9ad-4769-8c92-a6c4dae69d19",
    "_uuid": "8f2839f25d086af736a60e9eeb907d3b93b6e0e5",
    "execution": {
     "iopub.execute_input": "2024-01-17T15:27:15.343379Z",
     "iopub.status.busy": "2024-01-17T15:27:15.342920Z",
     "iopub.status.idle": "2024-01-17T15:27:15.738529Z",
     "shell.execute_reply": "2024-01-17T15:27:15.735577Z"
    },
    "papermill": {
     "duration": 0.402135,
     "end_time": "2024-01-17T15:27:15.741688",
     "exception": false,
     "start_time": "2024-01-17T15:27:15.339553",
     "status": "completed"
    },
    "tags": []
   },
   "outputs": [
    {
     "name": "stdout",
     "output_type": "stream",
     "text": [
      "/kaggle/input/titanic-hw/train.csv\n",
      "/kaggle/input/titanic-hw/test.csv\n",
      "/kaggle/input/titanic-hw/gender_submission.csv\n"
     ]
    }
   ],
   "source": [
    "# This Python 3 environment comes with many helpful analytics libraries installed\n",
    "# It is defined by the kaggle/python Docker image: https://github.com/kaggle/docker-python\n",
    "# For example, here's several helpful packages to load\n",
    "\n",
    "import numpy as np # linear algebra\n",
    "import pandas as pd # data processing, CSV file I/O (e.g. pd.read_csv)\n",
    "\n",
    "# Input data files are available in the read-only \"../input/\" directory\n",
    "# For example, running this (by clicking run or pressing Shift+Enter) will list all files under the input directory\n",
    "\n",
    "import os\n",
    "for dirname, _, filenames in os.walk('/kaggle/input'):\n",
    "    for filename in filenames:\n",
    "        print(os.path.join(dirname, filename))\n",
    "\n",
    "# You can write up to 20GB to the current directory (/kaggle/working/) that gets preserved as output when you create a version using \"Save & Run All\" \n",
    "# You can also write temporary files to /kaggle/temp/, but they won't be saved outside of the current session"
   ]
  },
  {
   "cell_type": "code",
   "execution_count": 2,
   "id": "2d618406",
   "metadata": {
    "execution": {
     "iopub.execute_input": "2024-01-17T15:27:15.749351Z",
     "iopub.status.busy": "2024-01-17T15:27:15.747357Z",
     "iopub.status.idle": "2024-01-17T15:27:17.721088Z",
     "shell.execute_reply": "2024-01-17T15:27:17.719627Z"
    },
    "papermill": {
     "duration": 1.979676,
     "end_time": "2024-01-17T15:27:17.723569",
     "exception": false,
     "start_time": "2024-01-17T15:27:15.743893",
     "status": "completed"
    },
    "tags": []
   },
   "outputs": [
    {
     "name": "stdout",
     "output_type": "stream",
     "text": [
      "Accuracy on the validation set: 0.82\n"
     ]
    }
   ],
   "source": [
    "import pandas as pd\n",
    "from sklearn.model_selection import train_test_split\n",
    "from sklearn.ensemble import RandomForestClassifier\n",
    "from sklearn.metrics import accuracy_score\n",
    "from sklearn.impute import SimpleImputer\n",
    "from sklearn.preprocessing import StandardScaler, OneHotEncoder\n",
    "from sklearn.compose import ColumnTransformer\n",
    "from sklearn.pipeline import Pipeline\n",
    "\n",
    "# Load the training dataset\n",
    "train_data = pd.read_csv('/kaggle/input/titanic-hw/train.csv')\n",
    "test_data = pd.read_csv('/kaggle/input/titanic-hw/test.csv')\n",
    "\n",
    "# Select features and target variable\n",
    "features = ['Pclass', 'Sex', 'Age', 'SibSp', 'Parch', 'Fare', 'Embarked']\n",
    "X = train_data[features]\n",
    "y = train_data['Survived']\n",
    "\n",
    "# Split the data into training and validation sets\n",
    "X_train, X_val, y_train, y_val = train_test_split(X, y, test_size=0.2, random_state=42)\n",
    "\n",
    "# Define preprocessing for numerical and categorical features\n",
    "numeric_features = ['Age', 'SibSp', 'Parch', 'Fare']\n",
    "numeric_transformer = Pipeline(steps=[\n",
    "    ('imputer', SimpleImputer(strategy='mean')),\n",
    "    ('scaler', StandardScaler())\n",
    "])\n",
    "\n",
    "categorical_features = ['Pclass', 'Sex', 'Embarked']\n",
    "categorical_transformer = Pipeline(steps=[\n",
    "    ('imputer', SimpleImputer(strategy='most_frequent')),\n",
    "    ('onehot', OneHotEncoder(handle_unknown='ignore'))\n",
    "])\n",
    "\n",
    "# Combine preprocessing steps\n",
    "preprocessor = ColumnTransformer(\n",
    "    transformers=[\n",
    "        ('num', numeric_transformer, numeric_features),\n",
    "        ('cat', categorical_transformer, categorical_features)\n",
    "    ])\n",
    "\n",
    "# Create a Random Forest model\n",
    "model = Pipeline(steps=[('preprocessor', preprocessor),\n",
    "                        ('classifier', RandomForestClassifier(n_estimators=100, random_state=42))])\n",
    "\n",
    "# Train the model\n",
    "model.fit(X_train, y_train)\n",
    "\n",
    "# Make predictions on the validation set\n",
    "val_predictions = model.predict(X_val)\n",
    "\n",
    "# Evaluate the accuracy on the validation set\n",
    "accuracy = accuracy_score(y_val, val_predictions)\n",
    "print(f'Accuracy on the validation set: {accuracy:.2f}')\n",
    "\n",
    "# Prepare test data\n",
    "X_test = test_data[features]\n",
    "\n"
   ]
  }
 ],
 "metadata": {
  "kaggle": {
   "accelerator": "none",
   "dataSources": [
    {
     "datasetId": 4317503,
     "sourceId": 7420891,
     "sourceType": "datasetVersion"
    }
   ],
   "dockerImageVersionId": 30635,
   "isGpuEnabled": false,
   "isInternetEnabled": false,
   "language": "python",
   "sourceType": "notebook"
  },
  "kernelspec": {
   "display_name": "Python 3",
   "language": "python",
   "name": "python3"
  },
  "language_info": {
   "codemirror_mode": {
    "name": "ipython",
    "version": 3
   },
   "file_extension": ".py",
   "mimetype": "text/x-python",
   "name": "python",
   "nbconvert_exporter": "python",
   "pygments_lexer": "ipython3",
   "version": "3.10.12"
  },
  "papermill": {
   "default_parameters": {},
   "duration": 6.198649,
   "end_time": "2024-01-17T15:27:18.347790",
   "environment_variables": {},
   "exception": null,
   "input_path": "__notebook__.ipynb",
   "output_path": "__notebook__.ipynb",
   "parameters": {},
   "start_time": "2024-01-17T15:27:12.149141",
   "version": "2.4.0"
  }
 },
 "nbformat": 4,
 "nbformat_minor": 5
}
